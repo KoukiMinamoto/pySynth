{
 "cells": [
  {
   "cell_type": "code",
   "execution_count": 1,
   "metadata": {},
   "outputs": [
    {
     "name": "stdout",
     "output_type": "stream",
     "text": [
      "pygame 1.9.6\n",
      "Hello from the pygame community. https://www.pygame.org/contribute.html\n"
     ]
    }
   ],
   "source": [
    "from synth import Series\n",
    "from interface import FromMidiFile\n",
    "from sampler import Sampler\n",
    "from oscillator import SineWave, TriangleWave\n",
    "from amplifier import SimpleAmp\n",
    "from controller import Envelope"
   ]
  },
  {
   "cell_type": "code",
   "execution_count": null,
   "metadata": {},
   "outputs": [
    {
     "name": "stdout",
     "output_type": "stream",
     "text": [
      "Your Synth is completed!!\n",
      "Structure:  [<interface.FromMidiFile object at 0x1261e0da0>, <oscillator.TriangleWave object at 0x1261e0f60>, <amplifier.SimpleAmp object at 0x1261e0f98>]\n"
     ]
    }
   ],
   "source": [
    "# Construction\n",
    "synth = Series(pitch=440, rate=44100, bufsize=500)\n",
    "interface = synth.stack(FromMidiFile(midifile=\"./midi_file/Super Mario 64 - Medley.mid\"))\n",
    "#sampler = synth.stack(Sampler(wavefile=\"./wizavo_outfile/men/wa-.wav\"))\n",
    "osc = synth.stack(TriangleWave())\n",
    "amp = synth.stack(SimpleAmp(volume=0.1))\n",
    "\n",
    "# Envelopes\n",
    "env = Envelope(A=0.1, D=0.2, S=1.0, R=0.3)\n",
    "env.assign(amp.amp)\n",
    "synth.implement(env)\n",
    "\n",
    "# Switches\n",
    "#sampler.loopON(pos=0.3, length=0.05, fade=0.6)\n",
    "\n",
    "# run\n",
    "synth.completed()\n",
    "synth.play()"
   ]
  }
 ],
 "metadata": {
  "kernelspec": {
   "display_name": "Python 3",
   "language": "python",
   "name": "python3"
  },
  "language_info": {
   "codemirror_mode": {
    "name": "ipython",
    "version": 3
   },
   "file_extension": ".py",
   "mimetype": "text/x-python",
   "name": "python",
   "nbconvert_exporter": "python",
   "pygments_lexer": "ipython3",
   "version": "3.6.5"
  }
 },
 "nbformat": 4,
 "nbformat_minor": 2
}
