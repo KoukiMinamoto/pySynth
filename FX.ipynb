{
 "cells": [
  {
   "cell_type": "code",
   "execution_count": 1,
   "metadata": {},
   "outputs": [
    {
     "name": "stdout",
     "output_type": "stream",
     "text": [
      "pygame 1.9.6\n",
      "Hello from the pygame community. https://www.pygame.org/contribute.html\n"
     ]
    }
   ],
   "source": [
    "import numpy as np\n",
    "import scipy \n",
    "from synth import *"
   ]
  },
  {
   "cell_type": "code",
   "execution_count": null,
   "metadata": {},
   "outputs": [],
   "source": [
    "class PitchShifter(object):\n",
    "    \n",
    "    def __init__(self, interval=0, fine=0):\n",
    "        self.interval = 0\n",
    "        self.fine = 0\n",
    "    \n",
    "    def stadby(self, synth):\n",
    "        self.parent = synth\n",
    "        self._BUF_SIZE = self.parent._BUF_SIZE\n",
    "        self._RATE = self.parent._RATE\n",
    "        self._PITCH = self.parent._PITCH\n",
    "    \n",
    "    def play(self):\n",
    "        pass\n",
    "    \n",
    "    def \n",
    "        "
   ]
  }
 ],
 "metadata": {
  "kernelspec": {
   "display_name": "Python 3",
   "language": "python",
   "name": "python3"
  },
  "language_info": {
   "codemirror_mode": {
    "name": "ipython",
    "version": 3
   },
   "file_extension": ".py",
   "mimetype": "text/x-python",
   "name": "python",
   "nbconvert_exporter": "python",
   "pygments_lexer": "ipython3",
   "version": "3.6.5"
  }
 },
 "nbformat": 4,
 "nbformat_minor": 2
}
