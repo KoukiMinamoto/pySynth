{
 "cells": [
  {
   "cell_type": "code",
   "execution_count": 1,
   "metadata": {},
   "outputs": [
    {
     "name": "stdout",
     "output_type": "stream",
     "text": [
      "pygame 1.9.6\n",
      "Hello from the pygame community. https://www.pygame.org/contribute.html\n"
     ]
    }
   ],
   "source": [
    "import numpy as np\n",
    "from scipy import signal\n",
    "from synth import *"
   ]
  },
  {
   "cell_type": "code",
   "execution_count": 2,
   "metadata": {},
   "outputs": [],
   "source": [
    "class PitchShifter(object):\n",
    "    \n",
    "    def __init__(self, interval=0, fine=0):\n",
    "        self.interval = 0\n",
    "        self.fine = 0\n",
    "    \n",
    "    def standby(self, synth):\n",
    "        self.parent = synth\n",
    "        self._BUF_SIZE = self.parent._BUF_SIZE\n",
    "        self._RATE = self.parent._RATE\n",
    "        self._PITCH = self.parent._PITCH\n",
    "    \n",
    "    def play(self):\n",
    "        pass"
   ]
  },
  {
   "cell_type": "code",
   "execution_count": null,
   "metadata": {},
   "outputs": [],
   "source": [
    "class Lowpass(object):\n",
    "    \n",
    "    def __init__(self, fp=0, fs=0, gp=3, gs=20):\n",
    "        self.fp = fp\n",
    "        self.fs = fs\n",
    "        self.gp = gp\n",
    "        self.gs = gs\n",
    "        self.fn = 44100 / 2\n",
    "        self.wp = Parameter(self.fp/self.fn, self, name=\"wp\", controllable=True)\n",
    "        self.ws = Parameter(self.fs/self.fn, self, name=\"ws\", controllable=True)\n",
    "        \n",
    "    \n",
    "    def standby(self, synth):\n",
    "        self.parent = synth\n",
    "        self._BUF_SIZE = self.parent._BUF_SIZE\n",
    "        self._RATE = self.parent._RATE\n",
    "        self._PITCH = self.parent._PITCH\n",
    "    \n",
    "    def play(self): \n",
    "        self._effect()\n",
    "    \n",
    "    def _effect(self):\n",
    "        for i in range(128):\n",
    "            if self.parent.offset.get(i) >= 0:\n",
    "                # エフェクト記述\n",
    "                #print(self.parent.wave_data.get(i))\n",
    "                #print(self.wp.get(i))\n",
    "                N, Wn = signal.buttord(self.wp.get(i), self.ws.get(i), self.gp, self.gs)\n",
    "                self.b, self.a = signal.butter(N, Wn, \"low\")\n",
    "                wave = signal.filtfilt(self.b, self.a, self.parent.wave_data.get(i))\n",
    "                #print(wave)\n",
    "                # FX後の波形を保存\n",
    "                self.parent.wave_data.fix(wave, i)\n",
    "                \n",
    "        "
   ]
  },
  {
   "cell_type": "code",
   "execution_count": null,
   "metadata": {},
   "outputs": [],
   "source": [
    "class LPC(object):\n",
    "    def __init__(self, a):\n",
    "        self.a = a\n",
    "    \n",
    "    def standby(self, synth):\n",
    "        self.parent = synth\n",
    "        self._BUF_SIZE = self.parent._BUF_SIZE\n",
    "        self._RATE = self.parent._RATE\n",
    "        self._PITCH = self.parent._PITCH\n",
    "    \n",
    "    def play(self):\n",
    "        self._effect()\n",
    "    \n",
    "    def _effect(self):\n",
    "        for i in range(128):\n",
    "            if self.parent.note_on.get(i) == 1:\n",
    "                # エフェクト記述\n",
    "                #print(self.parent.wave_data.get(i))\n",
    "                wave = signal.lfilter([1.0], self.a, self.parent.wave_data.get(i))\n",
    "                #print(wave)\n",
    "                # FX後の波形を保存\n",
    "                self.parent.wave_data.fix(wave/10., i)\n",
    "                \n",
    "        "
   ]
  }
 ],
 "metadata": {
  "kernelspec": {
   "display_name": "Python 3",
   "language": "python",
   "name": "python3"
  },
  "language_info": {
   "codemirror_mode": {
    "name": "ipython",
    "version": 3
   },
   "file_extension": ".py",
   "mimetype": "text/x-python",
   "name": "python",
   "nbconvert_exporter": "python",
   "pygments_lexer": "ipython3",
   "version": "3.7.8"
  }
 },
 "nbformat": 4,
 "nbformat_minor": 4
}
