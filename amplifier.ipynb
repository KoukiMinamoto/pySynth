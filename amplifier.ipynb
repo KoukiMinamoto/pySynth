{
 "cells": [
  {
   "cell_type": "code",
   "execution_count": 1,
   "metadata": {},
   "outputs": [],
   "source": [
    "import numpy as np\n",
    "import pyaudio\n",
    "import threading"
   ]
  },
  {
   "cell_type": "code",
   "execution_count": 3,
   "metadata": {},
   "outputs": [],
   "source": [
    "class SimpleAmp():\n",
    "    \n",
    "    def __init__(self):\n",
    "        self.name = \"SimpleAmp\"\n",
    "        self.val = None\n",
    "        \n",
    "        self._PITCH = 440\n",
    "        self._RATE = 44100\n",
    "        self._BUF_SIZE = 500\n",
    "    \n",
    "    def _standby(self, stream, pitch=440, rate=44100, bufsize=500):\n",
    "        self._PITCH = pitch\n",
    "        self._RATE = rate\n",
    "        self._BUF_SIZE = bufsize\n",
    "        self.stream = stream\n",
    "        \n",
    "        return [self.name]\n",
    "    \n",
    "    def _play(self, wave):\n",
    "        self._output(wave)\n",
    "    \n",
    "    def _output(self, wave):\n",
    "        if len(wave) > 0:\n",
    "            output = wave\n",
    "        else:\n",
    "            pass\n",
    "        \n",
    "        self.stream.write(output.astype(np.float32).tostring())"
   ]
  },
  {
   "cell_type": "code",
   "execution_count": null,
   "metadata": {},
   "outputs": [],
   "source": []
  }
 ],
 "metadata": {
  "kernelspec": {
   "display_name": "Python 3",
   "language": "python",
   "name": "python3"
  },
  "language_info": {
   "codemirror_mode": {
    "name": "ipython",
    "version": 3
   },
   "file_extension": ".py",
   "mimetype": "text/x-python",
   "name": "python",
   "nbconvert_exporter": "python",
   "pygments_lexer": "ipython3",
   "version": "3.6.5"
  }
 },
 "nbformat": 4,
 "nbformat_minor": 2
}
