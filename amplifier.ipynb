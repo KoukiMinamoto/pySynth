{
 "cells": [
  {
   "cell_type": "code",
   "execution_count": 2,
   "metadata": {},
   "outputs": [
    {
     "name": "stdout",
     "output_type": "stream",
     "text": [
      "pygame 1.9.6\n",
      "Hello from the pygame community. https://www.pygame.org/contribute.html\n"
     ]
    }
   ],
   "source": [
    "import numpy as np\n",
    "import pyaudio\n",
    "import threading\n",
    "import wave\n",
    "from synth import *"
   ]
  },
  {
   "cell_type": "code",
   "execution_count": 5,
   "metadata": {},
   "outputs": [],
   "source": [
    "class SimpleAmp():\n",
    "    def __init__(self, volume=1.0):\n",
    "        self.name = \"SimpleAmp\"\n",
    "        \n",
    "        self._PITCH = 440\n",
    "        self._RATE = 44100\n",
    "        self._BUF_SIZE = 512\n",
    "        self.volume = volume\n",
    "        \n",
    "        self.amp = Parameter(np.zeros(self._BUF_SIZE), self, -32768, 32767, name=\"amp\", controllable=True)\n",
    "        \n",
    "    def standby(self, synth):\n",
    "        self.parent = synth\n",
    "        self._PITCH = self.parent._PITCH\n",
    "        self._RATE = self.parent._RATE\n",
    "        self._BUF_SIZE = self.parent._BUF_SIZE\n",
    "        \n",
    "    def play(self):\n",
    "        for i in range(128):\n",
    "            #print(np.shape(self.parent.wave_data.get(i)))\n",
    "            self.amp.fix(self.volume*self.parent.wave_data.get(i), i)        "
   ]
  },
  {
   "cell_type": "code",
   "execution_count": null,
   "metadata": {},
   "outputs": [],
   "source": [
    "class WavWriter():\n",
    "    def __init__(self, volume=1.0, file_name=\"\"):\n",
    "        self.name = \"WavWriter\"\n",
    "        \n",
    "        self._PITCH = 440\n",
    "        self._RATE = 44100\n",
    "        self._BUF_SIZE = 500\n",
    "        self.volume = volume\n",
    "        self.file_name = file_name\n",
    "        \n",
    "        self.amp = Parameter(np.zeros(self._BUF_SIZE), self, -32768, 32767, name=\"amp\", controllable=True)\n",
    "        \n",
    "    def standby(self, synth):\n",
    "        self.parent = synth\n",
    "        self._PITCH = self.parent._PITCH\n",
    "        self._RATE = self.parent._RATE\n",
    "        self._BUF_SIZE = self.parent._BUF_SIZE\n",
    "        \n",
    "        self.parent.out_file_name = self.file_name\n",
    "        self.parent.file_out = True\n",
    "        \n",
    "        \n",
    "    def play(self):\n",
    "        for i in range(128):\n",
    "            self.amp.fix(self.volume*self.parent.wave_data.get(i), i)"
   ]
  }
 ],
 "metadata": {
  "kernelspec": {
   "display_name": "Python 3",
   "language": "python",
   "name": "python3"
  },
  "language_info": {
   "codemirror_mode": {
    "name": "ipython",
    "version": 3
   },
   "file_extension": ".py",
   "mimetype": "text/x-python",
   "name": "python",
   "nbconvert_exporter": "python",
   "pygments_lexer": "ipython3",
   "version": "3.6.5"
  }
 },
 "nbformat": 4,
 "nbformat_minor": 2
}
