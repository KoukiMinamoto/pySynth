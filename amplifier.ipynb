{
 "cells": [
  {
   "cell_type": "code",
   "execution_count": 2,
   "metadata": {},
   "outputs": [
    {
     "name": "stdout",
     "output_type": "stream",
     "text": [
      "pygame 1.9.6\n",
      "Hello from the pygame community. https://www.pygame.org/contribute.html\n"
     ]
    }
   ],
   "source": [
    "import numpy as np\n",
    "import pyaudio\n",
    "import threading\n",
    "from synth import *"
   ]
  },
  {
   "cell_type": "code",
   "execution_count": 5,
   "metadata": {},
   "outputs": [],
   "source": [
    "class SimpleAmp():\n",
    "    def __init__(self, volume=1.0):\n",
    "        self.name = \"SimpleAmp\"\n",
    "        \n",
    "        self._PITCH = 440\n",
    "        self._RATE = 44100\n",
    "        self._BUF_SIZE = 500\n",
    "        self.volume = volume\n",
    "        \n",
    "        self.amp = Parameter(np.zeros(self._BUF_SIZE), self, -32768, 32767, name=\"amp\", controllable=True)\n",
    "        \n",
    "    def standby(self, synth, pitch=440, rate=44100, bufsize=500):\n",
    "        self.parent = synth\n",
    "        self._PITCH = pitch\n",
    "        self._RATE = rate\n",
    "        self._BUF_SIZE = bufsize\n",
    "        \n",
    "    def play(self):\n",
    "        for i in range(128):\n",
    "            self.amp.fix(self.volume*self.parent.wave_data.get(i), i)        "
   ]
  },
  {
   "cell_type": "code",
   "execution_count": 3,
   "metadata": {},
   "outputs": [],
   "source": [
    "class _SimpleAmp():\n",
    "    \n",
    "    def __init__(self):\n",
    "        self.name = \"SimpleAmp\"\n",
    "        self.val = None\n",
    "        \n",
    "        self.flag = False\n",
    "        \n",
    "        self._PITCH = 440\n",
    "        self._RATE = 44100\n",
    "        self._BUF_SIZE = 500\n",
    "    \n",
    "    def _standby(self, synth, pitch=440, rate=44100, bufsize=500):\n",
    "        self.parent = synth\n",
    "        self._PITCH = pitch\n",
    "        self._RATE = rate\n",
    "        self._BUF_SIZE = bufsize\n",
    "        self.stream = self.partent.stream\n",
    "        \n",
    "        return self\n",
    "    \n",
    "    def _play(self, wave):\n",
    "        self._output(wave)\n",
    "    \n",
    "    def _output(self, wave):\n",
    "        if len(wave) > 0:\n",
    "            output = wave\n",
    "        else:\n",
    "            pass\n",
    "        if self.stream.is_active():\n",
    "            #if self.flag == True:\n",
    "             #   self.thread1.join()\n",
    "              #  self.flag == False\n",
    "                \n",
    "            #self.thread1 = threading.Thread(target=self.stream.write, args=(output,)) \n",
    "            #self.thread1.start()\n",
    "            #self.flag = True\n",
    "            self.stream.write(output)"
   ]
  }
 ],
 "metadata": {
  "kernelspec": {
   "display_name": "Python 3",
   "language": "python",
   "name": "python3"
  },
  "language_info": {
   "codemirror_mode": {
    "name": "ipython",
    "version": 3
   },
   "file_extension": ".py",
   "mimetype": "text/x-python",
   "name": "python",
   "nbconvert_exporter": "python",
   "pygments_lexer": "ipython3",
   "version": "3.6.5"
  }
 },
 "nbformat": 4,
 "nbformat_minor": 2
}
