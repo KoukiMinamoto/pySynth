{
 "cells": [
  {
   "cell_type": "code",
   "execution_count": 1,
   "metadata": {},
   "outputs": [
    {
     "name": "stdout",
     "output_type": "stream",
     "text": [
      "pygame 1.9.6\n",
      "Hello from the pygame community. https://www.pygame.org/contribute.html\n"
     ]
    }
   ],
   "source": [
    "from synth import Series\n",
    "from interface import MonoMeledy, SingSong\n",
    "from oscillator import SineWave, TriangleWave, ToufuWave\n",
    "from amplifier import SimpleAmp\n",
    "from controller import Envelope\n",
    "from pitchdetection import PitchDetection\n",
    "from controller import Envelope, ArduinoController"
   ]
  },
  {
   "cell_type": "code",
   "execution_count": null,
   "metadata": {},
   "outputs": [
    {
     "name": "stdout",
     "output_type": "stream",
     "text": [
      "Your Synth is completed!!\n",
      "Structure:  [<interface.SingSong object at 0x131120b70>, <oscillator.ToufuWave object at 0x131120d30>, <amplifier.SimpleAmp object at 0x131120d68>]\n",
      "Listening your singing...\n",
      "[25.0, 0, 0, 0, 0, 0, 0, 0, 0, 0, 0, 0, 0, 88.0, 89.0, 89.0, 90.0, 90.0, 90.0, 0, 0, 0, 76.0, 92.0, 92.0, 92.0, 92.0, 92.0, 0, 0, 0, 0, 0, 94.0, 94.0, 89.0, 94.0, 94.0, 94.0, 94.0, 94.0, 94.0, 94.0, 94.0, 94.0, 94.0, 94.0, 94.0, 89.0, 0, 0, 96.0, 96.0, 96.0, 0, 0, 94.0, 94.0, 94.0, 94.0, 93.0, 0, 0, 0, 0, 0, 0, 86.0, 0, 0, 0, 92.0, 92.0, 92.0, 92.0, 92.0, 92.0, 92.0, 92.0, 92.0, 92.0, 92.0, 92.0, 92.0, 0, 0, 0, 0, 0, 0, 0, 0, 0, 0, 0, 0, 0, 0, 0, 0, 0, 0, 0, 0, 55.0, 39.0, 22.0, 33.0, 0, 0, 0, 0, 0, 0, 0, 0, 0, 0, 0, 0, 0, 0, 0, 0, 0, 0, 0, 0, 0]\n",
      "Stop your synth.\n",
      "Listening your singing...\n",
      "[93.0, 93.0, 93.0, 93.0, 93.0, 93.0, 93.0, 0, 0, 0, 0, 0, 0, 0, 0, 0, 65.0, 94.0, 94.0, 94.0, 92.0, 92.0, 92.0, 0, 0, 89.0, 89.0, 89.0, 0, 0, 0, 0, 92.0, 92.0, 92.0, 92.0, 92.0, 92.0, 0, 0, 0, 0, 0, 0, 0, 0, 0, 0, 0, 0, 0, 0, 0, 0, 0, 0, 0, 0, 0]\n",
      "Stop your synth.\n",
      "Listening your singing...\n",
      "[50.0, 50.0, 69.0, 0, 0, 79.0, 36.0, 0, 0, 0, 0, 0, 0, 0, 0, 0, 0, 0, 0, 0, 0, 0, 0, 0, 0, 0, 0, 0]\n",
      "Stop your synth.\n",
      "Listening your singing...\n",
      "[86.0, 86.0, 83.0, 84.0, 23.0, 48.0, 0, 0, 0, 0, 0, 0, 0, 0, 0, 0, 0, 0, 0, 24.0, 92.0, 0, 0, 0, 24.0, 42.0, 51.0, 32.0, 42.0, 0, 24.0, 45.0, 33.0, 32.0, 0, 0, 0, 0, 0, 0, 62.0, 52.0, 32.0, 0, 0, 51.0, 64.0, 32.0, 0, 0, 0, 0, 0, 0, 0, 0, 0, 81.0, 98.0, 0, 0, 0, 0, 0, 0, 0, 0, 0, 0, 0, 0, 0, 0, 0, 0, 0, 0, 0, 0, 0]\n",
      "Stop your synth.\n",
      "Listening your singing...\n",
      "[53.0, 82.0, 54.0, 50.0, 23.0, 23.0, 0, 0, 0, 0, 0, 0, 0, 0, 0, 0, 0, 34.0, 23.0, 0, 24.0, 46.0, 47.0, 51.0, 25.0, 44.0, 51.0, 48.0, 86.0, 26.0, 25.0, 51.0, 38.0, 55.0, 50.0, 56.0, 0, 0, 0, 0, 0, 0, 0, 0, 0, 0, 0, 0, 0, 0, 0, 0, 0, 0, 0, 0, 0]\n",
      "Stop your synth.\n",
      "Listening your singing...\n",
      "[53.0, 51.0, 32.0, 50.0, 0, 56.0, 69.0, 0, 0, 0, 0, 0, 0, 0, 0, 0, 0, 0, 0, 0, 0, 0, 0, 0, 0, 0, 0, 0]\n",
      "Stop your synth.\n",
      "Listening your singing...\n",
      "[50.0, 0, 0, 0, 0, 0, 0, 0, 0, 0, 0, 0, 0, 0, 0, 0, 25.0, 0, 55.0, 50.0, 26.0, 49.0, 50.0, 53.0, 53.0, 24.0, 44.0, 53.0, 50.0, 84.0, 50.0, 49.0, 44.0, 54.0, 43.0, 53.0, 48.0, 51.0, 0, 25.0, 24.0, 45.0, 65.0, 0, 0, 53.0, 59.0, 24.0, 30.0, 44.0, 47.0, 0, 60.0, 39.0, 0, 0, 0, 0, 0, 0, 0, 0, 42.0, 0, 0, 0, 0, 0, 0, 0, 0, 0, 0, 0, 0, 0, 0, 0, 0, 0, 0, 0, 0, 0]\n",
      "Stop your synth.\n",
      "Listening your singing...\n",
      "[47.0, 26.0, 52.0, 53.0, 99.0, 50.0, 55.0, 55.0, 75.0, 0, 0, 0, 0, 0, 0, 0, 0, 0, 0, 0, 0, 0, 0, 0, 49.0, 48.0, 49.0, 47.0, 23.0, 50.0, 54.0, 55.0, 47.0, 51.0, 45.0, 51.0, 51.0, 26.0, 0, 0, 22.0, 29.0, 45.0, 32.0, 54.0, 53.0, 30.0, 62.0, 60.0, 23.0, 33.0, 0, 60.0, 46.0, 48.0, 49.0, 50.0, 30.0, 0, 0, 0, 27.0, 0, 0, 0, 0, 0, 0, 23.0, 53.0, 29.0, 55.0, 46.0, 46.0, 0, 0, 0, 0, 0, 0, 0, 0, 49.0, 0, 51.0, 32.0, 49.0, 49.0, 53.0, 0, 0, 71.0, 38.0, 0, 38.0, 50.0, 0, 0, 0, 0, 0, 0, 0, 0, 85.0, 100.0, 51.0, 94.0, 50.0, 34.0, 24.0, 26.0, 49.0, 25.0, 51.0, 51.0, 51.0, 48.0, 0, 0, 0, 0, 0, 0, 0, 0, 0, 0, 0, 0, 0, 0, 0, 0, 0, 0, 0, 0, 0]\n",
      "Stop your synth.\n",
      "Listening your singing...\n"
     ]
    }
   ],
   "source": [
    "pitch_log = []\n",
    "syn = Series(bufsize=512, pitch=440, rate=44100)\n",
    "interface = syn.stack(SingSong(pitch_log, chunk=2048))\n",
    "osc = syn.stack(ToufuWave())\n",
    "amp = syn.stack(SimpleAmp(volume=1.0))\n",
    "\n",
    "env = Envelope(A=0.1, D=0.1, S=1.0, R=0.1)\n",
    "env.assign(amp.amp)\n",
    "env2 = ArduinoController(com='/dev/cu.usbmodem141401', baudrate=9600)\n",
    "env2.assign(osc.fine, scale=300.)\n",
    "\n",
    "syn.implement(env)\n",
    "syn.implement(env2)\n",
    "syn.completed()\n",
    "\n",
    "while True:\n",
    "    pd = PitchDetection()\n",
    "    pitch_log = pd.mimic_song()\n",
    "    interface.set_pitch_log(pitch_log)\n",
    "    print(pitch_log)\n",
    "\n",
    "    syn.play()"
   ]
  },
  {
   "cell_type": "code",
   "execution_count": null,
   "metadata": {},
   "outputs": [],
   "source": []
  }
 ],
 "metadata": {
  "kernelspec": {
   "display_name": "Python 3",
   "language": "python",
   "name": "python3"
  },
  "language_info": {
   "codemirror_mode": {
    "name": "ipython",
    "version": 3
   },
   "file_extension": ".py",
   "mimetype": "text/x-python",
   "name": "python",
   "nbconvert_exporter": "python",
   "pygments_lexer": "ipython3",
   "version": "3.7.8"
  }
 },
 "nbformat": 4,
 "nbformat_minor": 4
}
