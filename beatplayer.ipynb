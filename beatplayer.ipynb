{
 "cells": [
  {
   "cell_type": "code",
   "execution_count": 2,
   "metadata": {},
   "outputs": [],
   "source": [
    "import pyaudio\n",
    "import wave\n",
    "import numpy as np\n",
    "import sys"
   ]
  },
  {
   "cell_type": "code",
   "execution_count": 3,
   "metadata": {},
   "outputs": [],
   "source": [
    "class BeatPlayer(object):\n",
    "    def __init__(self, beat_file, qpm, nquote, chunk=1024):\n",
    "        self.beat_file = beat_file\n",
    "        self.qpm = qpm\n",
    "        self.chunk = chunk\n",
    "        self.nquote = nquote\n",
    "        self.state = -1\n",
    "        self.vol = 1.0\n",
    "        \n",
    "        self.wf = wave.open(self.beat_file, \"rb\")\n",
    "        self.p = pyaudio.PyAudio()\n",
    "        self.frate = self.wf.getframerate()\n",
    "        self.nframe = self.wf.getnframes()\n",
    "        self.stream = self.p.open(format=self.p.get_format_from_width(self.wf.getsampwidth()), channels=self.wf.getnchannels(), rate=self.frate, output=True)\n",
    "        \n",
    "        self.quote_pos = [0]\n",
    "        n = self.nframe / self.nquote\n",
    "        for i in range(1, self.nquote):\n",
    "            self.quote_pos.append(int(n*i))\n",
    "        print(\"quote_pos:\", self.quote_pos)\n",
    "        print(\"frame_num\", self.nframe)\n",
    "        \n",
    "    def play_beat(self, loop=True, fade=False):\n",
    "        quote_frame = []\n",
    "        \n",
    "        quote = (self.nframe / self.chunk) / self.nquote\n",
    "        print(quote)\n",
    "        \n",
    "        data = 0\n",
    "        i = 0\n",
    "        while data != b'':\n",
    "            data = self.wf.readframes(self.chunk)\n",
    "            arr_data = np.frombuffer(data, dtype='int16')\n",
    "            if data == b'' and loop == True:\n",
    "                i = 0\n",
    "                self.wf = wave.open(self.beat_file, \"rb\")\n",
    "                data = self.wf.readframes(self.chunk)\n",
    "                arr_data = np.frombuffer(data, dtype='int16')\n",
    "            arr_data = self.vol * arr_data\n",
    "            self.stream.write(arr_data.astype(np.int16).tostring())\n",
    "            \n",
    "            minimum = i\n",
    "            maximum = i + self.chunk\n",
    "            for j, pos in enumerate(self.quote_pos):\n",
    "                if pos >= minimum and pos < maximum:\n",
    "                    self.state = (j % 4) + 1\n",
    "                    print(self.state)\n",
    "                else:\n",
    "                    self.state = -1\n",
    "        \n",
    "            i = i + self.chunk\n",
    "        \n",
    "        self.close()\n",
    "    \n",
    "    def getState(self):\n",
    "        return self.state\n",
    "    \n",
    "    def setVolume(self, vol):\n",
    "        self.vol = vol\n",
    "    \n",
    "    def close(self):\n",
    "        self.stream.stop_stream()\n",
    "        self.stream.close()\n",
    "        self.p.terminate()"
   ]
  },
  {
   "cell_type": "markdown",
   "metadata": {},
   "source": [
    "bp = BeatPlayer(\"./beat/beat100.wav\", 100, 8)\n",
    "bp.play_beat()"
   ]
  },
  {
   "cell_type": "code",
   "execution_count": null,
   "metadata": {},
   "outputs": [],
   "source": []
  }
 ],
 "metadata": {
  "kernelspec": {
   "display_name": "Python 3",
   "language": "python",
   "name": "python3"
  },
  "language_info": {
   "codemirror_mode": {
    "name": "ipython",
    "version": 3
   },
   "file_extension": ".py",
   "mimetype": "text/x-python",
   "name": "python",
   "nbconvert_exporter": "python",
   "pygments_lexer": "ipython3",
   "version": "3.7.8"
  }
 },
 "nbformat": 4,
 "nbformat_minor": 4
}
