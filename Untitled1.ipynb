{
 "cells": [
  {
   "cell_type": "code",
   "execution_count": 1,
   "metadata": {},
   "outputs": [
    {
     "name": "stdout",
     "output_type": "stream",
     "text": [
      "pygame 1.9.6\n",
      "Hello from the pygame community. https://www.pygame.org/contribute.html\n"
     ]
    }
   ],
   "source": [
    "from synth import Series\n",
    "from interface import MidiFromPCkey\n",
    "from oscillator import SineWave, TriangleWave, ToufuWave\n",
    "from amplifier import SimpleAmp\n",
    "from controller import Envelope\n",
    "from pitchdetection import PitchDetection\n",
    "from controller import Envelope, ArduinoController"
   ]
  },
  {
   "cell_type": "code",
   "execution_count": null,
   "metadata": {},
   "outputs": [
    {
     "name": "stdout",
     "output_type": "stream",
     "text": [
      "Your Synth is completed!!\n",
      "Structure:  [<interface.MidiFromPCkey object at 0x1288e6fd0>, <oscillator.SineWave object at 0x1288f4240>, <amplifier.SimpleAmp object at 0x1288f4278>]\n"
     ]
    }
   ],
   "source": [
    "syn = Series(bufsize=512, pitch=440, rate=44100)\n",
    "interface = syn.stack(MidiFromPCkey())\n",
    "osc = syn.stack(SineWave())\n",
    "amp = syn.stack(SimpleAmp(volume=1.0))\n",
    "\n",
    "env = Envelope(A=0.1, D=0.1, S=1.0, R=0.1)\n",
    "env.assign(amp.amp)\n",
    "\n",
    "syn.implement(env)\n",
    "syn.completed()\n",
    "syn.play()"
   ]
  },
  {
   "cell_type": "code",
   "execution_count": null,
   "metadata": {},
   "outputs": [],
   "source": []
  }
 ],
 "metadata": {
  "kernelspec": {
   "display_name": "Python 3",
   "language": "python",
   "name": "python3"
  },
  "language_info": {
   "codemirror_mode": {
    "name": "ipython",
    "version": 3
   },
   "file_extension": ".py",
   "mimetype": "text/x-python",
   "name": "python",
   "nbconvert_exporter": "python",
   "pygments_lexer": "ipython3",
   "version": "3.6.5"
  }
 },
 "nbformat": 4,
 "nbformat_minor": 2
}
