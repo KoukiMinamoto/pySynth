{
 "cells": [
  {
   "cell_type": "code",
   "execution_count": 1,
   "metadata": {},
   "outputs": [
    {
     "name": "stderr",
     "output_type": "stream",
     "text": [
      "/Library/Frameworks/Python.framework/Versions/3.7/lib/python3.7/site-packages/librosa/util/decorators.py:9: NumbaDeprecationWarning: An import was requested from a module that has moved location.\n",
      "Import requested from: 'numba.decorators', please update to use 'numba.core.decorators' or pin to Numba version 0.48.0. This alias will not be present in Numba version 0.50.0.\n",
      "  from numba.decorators import jit as optional_jit\n",
      "/Library/Frameworks/Python.framework/Versions/3.7/lib/python3.7/site-packages/librosa/util/decorators.py:9: NumbaDeprecationWarning: An import was requested from a module that has moved location.\n",
      "Import of 'jit' requested from: 'numba.decorators', please update to use 'numba.core.decorators' or pin to Numba version 0.48.0. This alias will not be present in Numba version 0.50.0.\n",
      "  from numba.decorators import jit as optional_jit\n"
     ]
    },
    {
     "name": "stdout",
     "output_type": "stream",
     "text": [
      "pygame 1.9.6\n",
      "Hello from the pygame community. https://www.pygame.org/contribute.html\n"
     ]
    }
   ],
   "source": [
    "import threading\n",
    "import time\n",
    "from note_seq.protobuf import music_pb2\n",
    "\n",
    "from beatplayer import BeatPlayer\n",
    "\n",
    "from synth import Series\n",
    "from interface import SingNoteSequence\n",
    "from oscillator import PulseWave\n",
    "from FX import Lowpass\n",
    "from amplifier import SimpleAmp\n",
    "from controller import *"
   ]
  },
  {
   "cell_type": "code",
   "execution_count": 2,
   "metadata": {},
   "outputs": [],
   "source": [
    "def a():\n",
    "    while True:\n",
    "        print(\"hello\")\n",
    "        time.sleep(0.3)"
   ]
  },
  {
   "cell_type": "code",
   "execution_count": null,
   "metadata": {},
   "outputs": [
    {
     "name": "stdout",
     "output_type": "stream",
     "text": [
      "quote_pos: [0, 26460, 52920, 79380, 105840, 132300, 158760, 185220]\n",
      "frame_num 211680\n",
      "Your Synth is completed!!\n",
      "Structure:  [<interface.SingNoteSequence object at 0x7fdfb752a410>, <oscillator.PulseWave object at 0x7fdfb752a3d0>, <FX.Lowpass object at 0x7fdfb6acf6d0>, <amplifier.SimpleAmp object at 0x7fdfb68c8090>]\n",
      "50.0\n",
      "25.83984375\n"
     ]
    }
   ],
   "source": [
    "bp = BeatPlayer(\"./beat/beat100.wav\", 100, 8)\n",
    "\n",
    "tb = Series()\n",
    "tb_if = tb.stack(SingNoteSequence())\n",
    "tb_osc = tb.stack(PulseWave(interval=24))\n",
    "tb_lp = tb.stack(Lowpass(fs=1000, fp=10000))\n",
    "tb_amp = tb.stack(SimpleAmp(volume=0.7))\n",
    "\n",
    "tbe_amp = Envelope(A=0.01, D=0.2, S=0.6, R=0.2)\n",
    "tbe_amp.assign(tb_amp.amp)\n",
    "\n",
    "tb.implement(tbe_amp)\n",
    "tb.completed()\n",
    "\n",
    "twinkle_twinkle = music_pb2.NoteSequence()\n",
    "# Add the notes to the sequence.\n",
    "twinkle_twinkle.notes.add(pitch=60, start_time=0.0, end_time=0.5, velocity=80)\n",
    "twinkle_twinkle.notes.add(pitch=60, start_time=0.5, end_time=1.0, velocity=80)\n",
    "twinkle_twinkle.notes.add(pitch=67, start_time=1.0, end_time=1.5, velocity=80)\n",
    "twinkle_twinkle.notes.add(pitch=67, start_time=1.5, end_time=2.0, velocity=80)\n",
    "twinkle_twinkle.notes.add(pitch=69, start_time=2.0, end_time=2.5, velocity=80)\n",
    "twinkle_twinkle.notes.add(pitch=69, start_time=2.5, end_time=3.0, velocity=80)\n",
    "twinkle_twinkle.notes.add(pitch=67, start_time=3.0, end_time=4.0, velocity=80)\n",
    "twinkle_twinkle.notes.add(pitch=65, start_time=4.0, end_time=4.5, velocity=80)\n",
    "twinkle_twinkle.notes.add(pitch=65, start_time=4.5, end_time=5.0, velocity=80)\n",
    "twinkle_twinkle.notes.add(pitch=64, start_time=5.0, end_time=5.5, velocity=80)\n",
    "twinkle_twinkle.notes.add(pitch=64, start_time=5.5, end_time=6.0, velocity=80)\n",
    "twinkle_twinkle.notes.add(pitch=62, start_time=6.0, end_time=6.5, velocity=80)\n",
    "twinkle_twinkle.notes.add(pitch=62, start_time=6.5, end_time=7.0, velocity=80)\n",
    "twinkle_twinkle.notes.add(pitch=60, start_time=7.0, end_time=8.0, velocity=80) \n",
    "twinkle_twinkle.total_time = 8\n",
    "twinkle_twinkle.tempos.add(qpm=50);\n",
    "\n",
    "print(twinkle_twinkle.tempos[0].qpm)\n",
    "\n",
    "tb_if.set_note_sequence(twinkle_twinkle)\n",
    "bp.play_beat()\n",
    "#t1 = threading.Thread(target=bp.play_beat)\n",
    "#t2 = threading.Thread(target=tb.play)\n",
    "#t1.start()\n",
    "#t2.start()\n",
    "#tb.play()\n",
    "\n"
   ]
  },
  {
   "cell_type": "code",
   "execution_count": 2,
   "metadata": {},
   "outputs": [
    {
     "name": "stdout",
     "output_type": "stream",
     "text": [
      "おわた\n"
     ]
    }
   ],
   "source": [
    "import time\n",
    "import threading\n",
    "\n",
    "class cl1():\n",
    "    a = 0\n",
    "    flag = True\n",
    "    def func1(self):\n",
    "        while self.flag:\n",
    "            self.a = self.a + 1\n",
    "            #print(a)\n",
    "            time.sleep(0.2)\n",
    "\n",
    "c = cl1()\n",
    "th = threading.Thread(target=c.func1)\n",
    "th.start()\n",
    "\n",
    "while c.a < 20:\n",
    "    #print(\"a: \", c.a)\n",
    "    time.sleep(1.)\n",
    "\n",
    "c.flag = False\n",
    "th.join()\n",
    "print(\"おわた\")\n"
   ]
  },
  {
   "cell_type": "code",
   "execution_count": 6,
   "metadata": {},
   "outputs": [],
   "source": [
    "import serial\n",
    "port = '/dev/cu.usbmodem141101'"
   ]
  },
  {
   "cell_type": "code",
   "execution_count": 11,
   "metadata": {},
   "outputs": [],
   "source": [
    "with serial.Serial(port, 9600,timeout=1) as ser:\n",
    "    flag=bytes('0','utf-8')\n",
    "    ser.write(flag)"
   ]
  },
  {
   "cell_type": "code",
   "execution_count": null,
   "metadata": {},
   "outputs": [],
   "source": []
  }
 ],
 "metadata": {
  "kernelspec": {
   "display_name": "Python 3",
   "language": "python",
   "name": "python3"
  },
  "language_info": {
   "codemirror_mode": {
    "name": "ipython",
    "version": 3
   },
   "file_extension": ".py",
   "mimetype": "text/x-python",
   "name": "python",
   "nbconvert_exporter": "python",
   "pygments_lexer": "ipython3",
   "version": "3.7.8"
  }
 },
 "nbformat": 4,
 "nbformat_minor": 4
}
