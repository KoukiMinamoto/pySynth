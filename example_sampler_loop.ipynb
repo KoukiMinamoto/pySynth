{
 "cells": [
  {
   "cell_type": "code",
   "execution_count": 1,
   "metadata": {},
   "outputs": [
    {
     "name": "stdout",
     "output_type": "stream",
     "text": [
      "pygame 1.9.6\n",
      "Hello from the pygame community. https://www.pygame.org/contribute.html\n"
     ]
    }
   ],
   "source": [
    "from synth import *\n",
    "from interface import *\n",
    "from sampler import Sampler\n",
    "from oscillator import SineWave, TriangleWave, ToufuWave\n",
    "from amplifier import SimpleAmp, WavWriter\n",
    "from controller import Envelope, ArduinoController"
   ]
  },
  {
   "cell_type": "code",
   "execution_count": 2,
   "metadata": {},
   "outputs": [],
   "source": [
    "synth = Series(pitch=440, rate=44100, bufsize=512)"
   ]
  },
  {
   "cell_type": "code",
   "execution_count": 3,
   "metadata": {},
   "outputs": [
    {
     "data": {
      "text/plain": [
       "<interface.MidiFromPCkey at 0x12384b610>"
      ]
     },
     "execution_count": 3,
     "metadata": {},
     "output_type": "execute_result"
    }
   ],
   "source": [
    "synth.stack(MidiFromPCkey())\n",
    "#synth.stack(MonoMeledy(72, 3.0))"
   ]
  },
  {
   "cell_type": "code",
   "execution_count": 4,
   "metadata": {},
   "outputs": [
    {
     "name": "stdout",
     "output_type": "stream",
     "text": [
      "19595\n",
      "(19595,)\n"
     ]
    }
   ],
   "source": [
    "sam = synth.stack(Sampler(wavefile=\"wizavo_outfile/men/wa-_edited.wav\"))\n",
    "#osc = synth.stack(ToufuWave(interval=12))\n",
    "sam.loopON(pos=0.5, length=0.1, fade=0.6)\n",
    "#amp = synth.stack(WavWriter(volume=0.1, file_name=\"result/melo_ha-.wav\"))\n",
    "amp = synth.stack(SimpleAmp(volume=0.5))"
   ]
  },
  {
   "cell_type": "code",
   "execution_count": 5,
   "metadata": {},
   "outputs": [],
   "source": [
    "env = Envelope(A=1.0, D=0.03, S=0.5, R=1.0)\n",
    "#env3 = Envelope(A=0.05, D=0.3, S=0.0, R=0.2)\n",
    "#env3.assign(osc.fine, scale=100.)\n",
    "#env2 = ArduinoController(com='/dev/cu.usbmodem14301', baudrate=9600)\n",
    "#env2.assign(osc.fine, scale=100.)\n",
    "env.assign(amp.amp)\n",
    "synth.implement(env)\n",
    "#synth.implement(env2)\n",
    "#synth.implement(env3)"
   ]
  },
  {
   "cell_type": "code",
   "execution_count": null,
   "metadata": {},
   "outputs": [
    {
     "name": "stdout",
     "output_type": "stream",
     "text": [
      "Your Synth is completed!!\n",
      "Structure:  [<interface.MidiFromPCkey object at 0x12384b610>, <sampler.Sampler object at 0x12384b7d0>, <amplifier.SimpleAmp object at 0x12384bc50>]\n"
     ]
    }
   ],
   "source": [
    "synth.completed()\n",
    "synth.play()"
   ]
  },
  {
   "cell_type": "code",
   "execution_count": null,
   "metadata": {},
   "outputs": [],
   "source": []
  },
  {
   "cell_type": "code",
   "execution_count": null,
   "metadata": {},
   "outputs": [],
   "source": []
  }
 ],
 "metadata": {
  "kernelspec": {
   "display_name": "Python 3",
   "language": "python",
   "name": "python3"
  },
  "language_info": {
   "codemirror_mode": {
    "name": "ipython",
    "version": 3
   },
   "file_extension": ".py",
   "mimetype": "text/x-python",
   "name": "python",
   "nbconvert_exporter": "python",
   "pygments_lexer": "ipython3",
   "version": "3.7.5"
  }
 },
 "nbformat": 4,
 "nbformat_minor": 4
}
