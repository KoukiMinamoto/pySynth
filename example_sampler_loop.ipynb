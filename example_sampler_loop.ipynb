{
 "cells": [
  {
   "cell_type": "code",
   "execution_count": 7,
   "metadata": {},
   "outputs": [],
   "source": [
    "from synth import *\n",
    "from interface import *\n",
    "from sampler import Sampler\n",
    "from amplifier import SimpleAmp, WavWriter\n",
    "from controller import Envelope"
   ]
  },
  {
   "cell_type": "code",
   "execution_count": 8,
   "metadata": {},
   "outputs": [],
   "source": [
    "synth = Series(pitch=440, rate=16000, bufsize=50)"
   ]
  },
  {
   "cell_type": "code",
   "execution_count": 9,
   "metadata": {},
   "outputs": [
    {
     "data": {
      "text/plain": [
       "<interface.MidiFromPCkey at 0x12acdeac8>"
      ]
     },
     "execution_count": 9,
     "metadata": {},
     "output_type": "execute_result"
    }
   ],
   "source": [
    "synth.stack(MidiFromPCkey())"
   ]
  },
  {
   "cell_type": "code",
   "execution_count": 10,
   "metadata": {},
   "outputs": [],
   "source": [
    "sam = synth.stack(Sampler(wavefile=\"wizavo_outfile/men/wa-.wav\"))\n",
    "sam.loopON(pos=0.3, length=0.05, fade=0.6)\n",
    "#amp = synth.stack(WavWriter(volume=0.1, file_name=\"result/melo_ha-.wav\"))\n",
    "amp = synth.stack(SimpleAmp(volume=0.1))"
   ]
  },
  {
   "cell_type": "code",
   "execution_count": 11,
   "metadata": {},
   "outputs": [],
   "source": [
    "env = Envelope(A=0.1, D=0.1, S=1.0, R=0.1)\n",
    "env.assign(amp.amp)\n",
    "synth.implement(env)"
   ]
  },
  {
   "cell_type": "code",
   "execution_count": 12,
   "metadata": {},
   "outputs": [
    {
     "name": "stdout",
     "output_type": "stream",
     "text": [
      "Your Synth is completed!!\n",
      "Structure:  [<interface.MidiFromPCkey object at 0x12acdeac8>, <sampler.Sampler object at 0x12acdee48>, <amplifier.SimpleAmp object at 0x12acde5f8>]\n",
      "Abandoned your synth.\n"
     ]
    },
    {
     "data": {
      "text/plain": [
       "True"
      ]
     },
     "execution_count": 12,
     "metadata": {},
     "output_type": "execute_result"
    }
   ],
   "source": [
    "synth.completed()\n",
    "synth.play()"
   ]
  }
 ],
 "metadata": {
  "kernelspec": {
   "display_name": "Python 3",
   "language": "python",
   "name": "python3"
  },
  "language_info": {
   "codemirror_mode": {
    "name": "ipython",
    "version": 3
   },
   "file_extension": ".py",
   "mimetype": "text/x-python",
   "name": "python",
   "nbconvert_exporter": "python",
   "pygments_lexer": "ipython3",
   "version": "3.6.5"
  }
 },
 "nbformat": 4,
 "nbformat_minor": 2
}
