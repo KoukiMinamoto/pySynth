{
 "cells": [
  {
   "cell_type": "code",
   "execution_count": 1,
   "metadata": {},
   "outputs": [
    {
     "name": "stdout",
     "output_type": "stream",
     "text": [
      "pygame 1.9.6\n",
      "Hello from the pygame community. https://www.pygame.org/contribute.html\n"
     ]
    }
   ],
   "source": [
    "import numpy as np\n",
    "import scipy \n",
    "import synth"
   ]
  },
  {
   "cell_type": "code",
   "execution_count": null,
   "metadata": {},
   "outputs": [],
   "source": [
    "class Envelope_old():\n",
    "    def __init__(self, A=0.1, D=0.1, S=0.8, R=1.0):\n",
    "        \n",
    "        # ADSRの値保持用\n",
    "        self.A = A\n",
    "        self.D = D\n",
    "        self.S = S\n",
    "        self.R = R\n",
    "        \n",
    "        \n",
    "        self.classes = []\n",
    "        self.assigns = {}\n",
    "        # 前回のEnv参照時のノートオンの状態\n",
    "        self.pre_note_on = [0] * 128\n",
    "        self.pre_values = {}\n",
    "        # 各パラメータの持続フレーム数を保存して、ADSRのどの範囲かを判断する用\n",
    "        self.adsr = {}\n",
    "        self.pre_attack_idx = []\n",
    "        self.pre_sustain_idx = []\n",
    "        self.pre_release_idx = []\n",
    "        # 初期値\n",
    "        self.inival = {}\n",
    "        # 適応範囲\n",
    "        self.rang = {}\n",
    "        self.flag_R = False\n",
    "        \n",
    "        # 諸情報\n",
    "        self._PITCH = 440\n",
    "        self._RATE = 44100\n",
    "        self._BUF_SIZE = 500\n",
    "    \n",
    "    def assign(self, param, ini_value=0, rang=1.0):\n",
    "        '''\n",
    "            +args:\n",
    "                -param: [アサインする変数をもつクラス, \"アサインする変数の名前\", アサインする変数(リスト)のサイズ]\n",
    "        '''\n",
    "        \n",
    "        self.adsr[param[0]][param[1]] = [0] * param[2]\n",
    "        self.inival[param[0]][param[1]] = [ini_value]\n",
    "        self.rang[param[0]][param[1]] = [rang]\n",
    "        \n",
    "        \n",
    "        \n",
    "    def _standby(self, interface, pitch=440, rate=44100, bufsize=500):\n",
    "        self._PITCH = pitch\n",
    "        self._RATE = rate\n",
    "        self._BUF_SIZE = bufsize\n",
    "        # インターフェースで返されるnote_onをトリガーとして使用するため\n",
    "        self.interface = interface\n",
    "    \n",
    "    def _update(self, module, name, values):\n",
    "        \n",
    "        attack_note_idx = []\n",
    "        sustain_note_idx = []\n",
    "        release_note_idx= []\n",
    "        \n",
    "        note_on = self.interface.note_on\n",
    "        velocities = self.interface.velocities\n",
    "        \n",
    "        # どのキーがAttackなのかRleaseなのかとかを判断\n",
    "        for i in range(len(note_on)):\n",
    "            for j in range(len(self.pre_note_on)):\n",
    "                if note_on[i] != self.pre_note_on[j]:\n",
    "                    if note_on[i] == 1:\n",
    "                        attack_note_idx.append(i)\n",
    "                    elif note_on[i] == 0:\n",
    "                        release_note_idx.append(i)\n",
    "                        self.flag_R = True\n",
    "                elif note_on[i] == self.pre_note_on:\n",
    "                    if note_on[i] == 1:\n",
    "                        sustain_note_idx.append(i)\n",
    "                    elif note_on[i] == 0:\n",
    "                        if self.pre_release_idx.count(i) > 0:\n",
    "                            release_note_idx.append(i)\n",
    "                            \n",
    "        self.pre_note_on = note_on\n",
    "                        \n",
    "                \n",
    "        # valuesがampの場合\n",
    "        if len(values) == len(note_on):\n",
    "            pass\n",
    "        else:\n",
    "            \n",
    "        self.flag_R = False\n",
    "            \n",
    "    \n",
    "    def  _adsrmap(self, adsr, vel, preval, inival, rang, flag_R):\n",
    "        factor = None\n",
    "        if adsr <= self._RATE * self.A and adsr >= 0:\n",
    "            factor = ((vel * rang) - inival) / self._RATE * self.A\n",
    "        elif adsr > self._RATE * self.A and adsr <= self._RATE * (self.A + self.D):\n",
    "            factor = ((vel * rang) - self.S * (inival * rang)) / (self._RATE * self.D)\n",
    "        elif adsr > self._RATE * (self.A + self.D) and flag_R != True:\n",
    "            factor = 1.0\n",
    "        elif flag_R == True:\n",
    "            factor (self.S * (vel * rang)) / self._RATE * self.R\n",
    "        \n",
    "        return preval * factor\n",
    "        \n",
    "        \n",
    "        \n",
    "        \n"
   ]
  },
  {
   "cell_type": "code",
   "execution_count": null,
   "metadata": {},
   "outputs": [],
   "source": [
    "HOLD"
   ]
  },
  {
   "cell_type": "code",
   "execution_count": null,
   "metadata": {},
   "outputs": [],
   "source": [
    "class Envelope():\n",
    "    HOLD_TIME = Parameter(0.0)\n",
    "    def __init__(self, A=0.0, D=0.0,"
   ]
  }
 ],
 "metadata": {
  "kernelspec": {
   "display_name": "Python 3",
   "language": "python",
   "name": "python3"
  },
  "language_info": {
   "codemirror_mode": {
    "name": "ipython",
    "version": 3
   },
   "file_extension": ".py",
   "mimetype": "text/x-python",
   "name": "python",
   "nbconvert_exporter": "python",
   "pygments_lexer": "ipython3",
   "version": "3.6.5"
  }
 },
 "nbformat": 4,
 "nbformat_minor": 2
}
