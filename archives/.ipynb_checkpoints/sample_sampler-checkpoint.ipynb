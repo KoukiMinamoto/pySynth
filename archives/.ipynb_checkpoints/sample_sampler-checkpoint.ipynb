{
 "cells": [
  {
   "cell_type": "code",
   "execution_count": null,
   "metadata": {},
   "outputs": [],
   "source": [
    "from pysynth.synth import Series\n",
    "from pysynth.interface import MidiFromPCkey\n",
    "from pysynth.sampler import Sampler\n",
    "from pysynth.amplifier import SimpleAmp\n",
    "from pysynth.controller import Envelope\n",
    "\n",
    "synth = Series(pitch=440, rate=16000, bufsize=500)\n",
    "synth.stack(MidiFromPCkey())\n",
    "\n",
    "# Set wavefile you want to sample.\n",
    "sampler = synth.stack(Sampler(wavefile=\"./wizavo_outfile/men/wa-.wav\"))\n",
    "amp = synth.stack(SimpleAmp(volume=0.1))\n",
    "\n",
    "env = Envelope(A=0.1, D=0.05, S=1.0, R=0.1)\n",
    "env.assign(amp.amp)\n",
    "synth.implement(env)\n",
    "\n",
    "synth.completed()\n",
    "synth.play()"
   ]
  }
 ],
 "metadata": {
  "kernelspec": {
   "display_name": "Python 3",
   "language": "python",
   "name": "python3"
  },
  "language_info": {
   "codemirror_mode": {
    "name": "ipython",
    "version": 3
   },
   "file_extension": ".py",
   "mimetype": "text/x-python",
   "name": "python",
   "nbconvert_exporter": "python",
   "pygments_lexer": "ipython3",
   "version": "3.6.5"
  }
 },
 "nbformat": 4,
 "nbformat_minor": 2
}
