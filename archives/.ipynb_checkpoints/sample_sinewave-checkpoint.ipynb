{
 "cells": [
  {
   "cell_type": "code",
   "execution_count": null,
   "metadata": {},
   "outputs": [],
   "source": [
    "from pysynth.synth import Series\n",
    "from pysynth.interface import MidiFromPCkey\n",
    "from pysynth.oscillator import SineWave, TriangleWave, SquareWave\n",
    "from pysynth.amplifier import SimpleAmp\n",
    "from pysynth.controller import Envelope\n",
    "\n",
    "# Instance your synth.\n",
    "synth = Series(pitch=440, rate=16000, bufsize=500)\n",
    "\n",
    "# First, stack interface module.\n",
    "in_layer = synth.stack(MidiFromPCkey())\n",
    "\n",
    "# Second, stack  oscillator module.\n",
    "osc_sine = synth1.stack(SineWave())\n",
    "#osc_sine = synth1.stack(TriangleWave())\n",
    "#osc_sine = synth1.stack(SquareWave())\n",
    "\n",
    "# At last layer, stack amplifier module. \n",
    "amp_simple = synth1.stack(SimpleAmp(volume = 0.1))\n",
    "\n",
    "# Make Envelope with ADSR.\n",
    "env = Envelope(A=1.3, D=0.5, S=0.8, R=1.0)\n",
    "# Assign paramter to envelope.\n",
    "env.assign(amp.amp)\n",
    "# Implement envelope to your synth.\n",
    "synth.implement(env)\n",
    "\n",
    "# Finally, run these method below.\n",
    "synth.completed()\n",
    "synth.play()"
   ]
  },
  {
   "cell_type": "code",
   "execution_count": null,
   "metadata": {},
   "outputs": [],
   "source": []
  }
 ],
 "metadata": {
  "kernelspec": {
   "display_name": "Python 3",
   "language": "python",
   "name": "python3"
  },
  "language_info": {
   "codemirror_mode": {
    "name": "ipython",
    "version": 3
   },
   "file_extension": ".py",
   "mimetype": "text/x-python",
   "name": "python",
   "nbconvert_exporter": "python",
   "pygments_lexer": "ipython3",
   "version": "3.6.5"
  }
 },
 "nbformat": 4,
 "nbformat_minor": 2
}
