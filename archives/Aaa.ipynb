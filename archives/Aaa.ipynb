{
 "cells": [
  {
   "cell_type": "code",
   "execution_count": 5,
   "metadata": {},
   "outputs": [],
   "source": [
    "class Aaa():\n",
    "    def __init__(self):\n",
    "        print(\"init aaa\")\n",
    "        \n",
    "    def funcaaa(self):\n",
    "        print(\"functionaaa\")\n",
    "\n",
    "class Bbb():\n",
    "    def __init__(self):\n",
    "        print(\"init bbb\")\n",
    "        \n",
    "    def funcaaa():\n",
    "        print(\"functionbbb\")"
   ]
  },
  {
   "cell_type": "code",
   "execution_count": null,
   "metadata": {},
   "outputs": [],
   "source": []
  }
 ],
 "metadata": {
  "kernelspec": {
   "display_name": "Python 3",
   "language": "python",
   "name": "python3"
  },
  "language_info": {
   "codemirror_mode": {
    "name": "ipython",
    "version": 3
   },
   "file_extension": ".py",
   "mimetype": "text/x-python",
   "name": "python",
   "nbconvert_exporter": "python",
   "pygments_lexer": "ipython3",
   "version": "3.6.5"
  }
 },
 "nbformat": 4,
 "nbformat_minor": 2
}
