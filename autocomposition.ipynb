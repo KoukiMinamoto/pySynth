{
 "cells": [
  {
   "cell_type": "code",
   "execution_count": 2,
   "metadata": {},
   "outputs": [],
   "source": [
    "from magenta.models.melody_rnn import melody_rnn_sequence_generator\n",
    "from magenta.models.shared import sequence_generator_bundle\n",
    "import note_seq\n",
    "from note_seq.protobuf import generator_pb2\n",
    "from note_seq.protobuf import music_pb2"
   ]
  },
  {
   "cell_type": "code",
   "execution_count": 4,
   "metadata": {},
   "outputs": [],
   "source": [
    "class AutoComposition():\n",
    "    def __init__(self, bundle, method):\n",
    "        self.bundle = bundle\n",
    "        self.method = method\n",
    "    \n",
    "    def initialize(self):\n",
    "        print(\"Initializing Melody RNN...\")\n",
    "        bundle = sequence_generator_bundle.read_bundle_file(self.bundle)\n",
    "        generator_map = melody_rnn_sequence_generator.get_generator_map()\n",
    "        self.melody_rnn = generator_map[self.method](checkpoint=None, bundle=bundle)\n",
    "        self.melody_rnn.initialize()\n",
    "    \n",
    "    def generate(self, input_sequence):\n",
    "        \n",
    "        num_steps = 100 # change this for shorter or longer sequences\n",
    "        temperature = 0.8 # the higher the temperature the more random the sequence.\n",
    "\n",
    "        # Set the start time to begin on the next step after the last note ends.\n",
    "        last_end_time = (max(n.end_time for n in input_sequence.notes) if input_sequence.notes else 0)\n",
    "        qpm = input_sequence.tempos[0].qpm \n",
    "        seconds_per_step = 60.0 / qpm / self.melody_rnn.steps_per_quarter\n",
    "        total_seconds = num_steps * seconds_per_step\n",
    "        print(\"steps_per_quarter: \", self.melody_rnn.steps_per_quarter)\n",
    "        print(\"seconds_per_step: \", seconds_per_step)\n",
    "        print(\"total_seconds: \", total_seconds)\n",
    "\n",
    "        generator_options = generator_pb2.GeneratorOptions()\n",
    "        generator_options.args['temperature'].float_value = temperature\n",
    "        generate_section = generator_options.generate_sections.add(\n",
    "          start_time=last_end_time + seconds_per_step,\n",
    "          end_time=total_seconds)\n",
    "\n",
    "        # Ask the model to continue the sequence.\n",
    "        sequence = self.melody_rnn.generate(input_sequence, generator_options)\n",
    "\n",
    "        #print(sequence)\n",
    "        note_seq.plot_sequence(sequence)\n",
    "        note_seq.play_sequence(sequence)\n",
    "        \n",
    "        return sequence"
   ]
  }
 ],
 "metadata": {
  "kernelspec": {
   "display_name": "Python 3",
   "language": "python",
   "name": "python3"
  },
  "language_info": {
   "codemirror_mode": {
    "name": "ipython",
    "version": 3
   },
   "file_extension": ".py",
   "mimetype": "text/x-python",
   "name": "python",
   "nbconvert_exporter": "python",
   "pygments_lexer": "ipython3",
   "version": "3.7.8"
  }
 },
 "nbformat": 4,
 "nbformat_minor": 4
}
