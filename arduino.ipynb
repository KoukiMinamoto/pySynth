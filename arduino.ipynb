{
 "cells": [
  {
   "cell_type": "code",
   "execution_count": 4,
   "metadata": {},
   "outputs": [],
   "source": [
    "# ボードに書き込んで一回リセットボタン押して安定した後実行する\n",
    "# python側が起動するまでarduinoは待ってくれる\n",
    "import serial\n",
    "from time import sleep"
   ]
  },
  {
   "cell_type": "code",
   "execution_count": 5,
   "metadata": {},
   "outputs": [],
   "source": [
    "COM = '/dev/cu.usbmodem14301'\n",
    "RATE = 9600\n",
    "ser = serial.Serial(COM, RATE, timeout=0.1)"
   ]
  },
  {
   "cell_type": "code",
   "execution_count": null,
   "metadata": {},
   "outputs": [],
   "source": [
    "class ArduinoController(object):\n",
    "    \n",
    "    def __init__(self, com, baudrate=9600):\n",
    "        # クラス特有のパラメータ\n",
    "        self.COM = port\n",
    "        self.BAUDRATE = baudrate\n",
    "        self.SERIAL = serial.Serial(COM, RATE, timeout=0.1)\n",
    "        \n",
    "        # Controller共通パラメータ\n",
    "        self.scale = {}\n",
    "        self.assigned_params = []\n",
    "        self.threshold = 0.001\n",
    "        self.pre_mult = {}\n",
    "        self.offset_sofar = {}\n",
    "        \n",
    "    def standby(self, synth):\n",
    "        self.parent = synth\n",
    "        self._PITCH = self.parent._PITCH\n",
    "        self._RATE = self.parent._RATE\n",
    "        self._BUF_SIZE = self.parent._BUF_SIZE\n",
    "    \n",
    "    def assign(self, parameter, scale=None):\n",
    "        self.scale[parameter] = scale\n",
    "        self.pre_mult[parameter] = [0] * 128\n",
    "        self.offset_sofar[parameter] = [0] * 128\n",
    "        if parameter.__class__.__name__ == \"Parameter\":\n",
    "            if parameter.controllable == True:\n",
    "                self.assigned_params.append(parameter)\n",
    "            else:\n",
    "                raise InvalidParameterAssignment(\"This parameter cannot to be assigned.\")\n",
    "        else:\n",
    "            raise InvalidParameterAssignment(\"This parameter cannot to be assigned.\")\n",
    "            \n",
    "    def update(self, module):\n",
    "        for param in self.assigned_params:\n",
    "            if param.parent == module:\n",
    "                self._adsr(param)\n",
    "                \n",
    "    def _adsr(self, parameter):\n",
    "        for i in range(128):\n",
    "            data = self.SERIAL.read_all()\n",
    "            data = data.decode()\n",
    "            data = parameter.inival[i] + scale[parameter]*int(data) / 255\n",
    "            parameter.fix(data, i)\n",
    "            "
   ]
  },
  {
   "cell_type": "code",
   "execution_count": null,
   "metadata": {},
   "outputs": [
    {
     "name": "stdout",
     "output_type": "stream",
     "text": [
      "\n",
      "hello2\n",
      "\n",
      "\n",
      "hello3\n",
      "\n",
      "\n",
      "hello4\n",
      "\n",
      "hello5\n",
      "\n",
      "\n",
      "hello6\n",
      "\n",
      "\n",
      "hello7\n",
      "\n",
      "\n",
      "hello8\n",
      "\n",
      "\n",
      "hello9\n",
      "\n",
      "\n",
      "hello10\n",
      "\n",
      "\n",
      "hello11\n",
      "\n",
      "\n",
      "hello12\n",
      "\n",
      "\n"
     ]
    }
   ],
   "source": [
    "# while True:\n",
    "#     data = ser.read_all()\n",
    "#     print(data.decode())\n",
    "#     sleep(0.5)\n",
    "# ser.close()"
   ]
  },
  {
   "cell_type": "code",
   "execution_count": null,
   "metadata": {},
   "outputs": [],
   "source": []
  }
 ],
 "metadata": {
  "kernelspec": {
   "display_name": "Python 3",
   "language": "python",
   "name": "python3"
  },
  "language_info": {
   "codemirror_mode": {
    "name": "ipython",
    "version": 3
   },
   "file_extension": ".py",
   "mimetype": "text/x-python",
   "name": "python",
   "nbconvert_exporter": "python",
   "pygments_lexer": "ipython3",
   "version": "3.6.5"
  }
 },
 "nbformat": 4,
 "nbformat_minor": 2
}
