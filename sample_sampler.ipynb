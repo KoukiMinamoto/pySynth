{
 "cells": [
  {
   "cell_type": "code",
   "execution_count": 1,
   "metadata": {},
   "outputs": [
    {
     "name": "stdout",
     "output_type": "stream",
     "text": [
      "pygame 1.9.6\n",
      "Hello from the pygame community. https://www.pygame.org/contribute.html\n"
     ]
    }
   ],
   "source": [
    "from synth import Series\n",
    "from interface import MidiFromPCkey\n",
    "from sampler import Sampler\n",
    "from amplifier import SimpleAmp\n",
    "from controller import Envelope"
   ]
  },
  {
   "cell_type": "code",
   "execution_count": null,
   "metadata": {},
   "outputs": [
    {
     "name": "stderr",
     "output_type": "stream",
     "text": [
      "/usr/local/lib/python3.6/site-packages/scipy/signal/signaltools.py:1336: FutureWarning: Using a non-tuple sequence for multidimensional indexing is deprecated; use `arr[tuple(seq)]` instead of `arr[seq]`. In the future this will be interpreted as an array index, `arr[np.array(seq)]`, which will result either in an error or a different result.\n",
      "  out = out_full[ind]\n"
     ]
    },
    {
     "name": "stdout",
     "output_type": "stream",
     "text": [
      "size:  9122\n",
      "size:  8610\n",
      "size:  8127\n",
      "size:  7671\n",
      "size:  7240\n",
      "size:  6834\n",
      "size:  6450\n",
      "size:  6088\n",
      "size:  5747\n",
      "size:  5424\n",
      "size:  5120\n",
      "size:  4832\n",
      "Your Synth is completed!!\n",
      "Structure:  [<interface.MidiFromPCkey object at 0x11d8a1ac8>, <sampler.Sampler object at 0x11d8a1c18>, <amplifier.SimpleAmp object at 0x11d8a1c50>]\n"
     ]
    }
   ],
   "source": [
    "synth = Series(pitch=440, rate=16000, bufsize=500)\n",
    "synth.stack(MidiFromPCkey())\n",
    "sampler = synth.stack(Sampler(wavefile=\"./wizavo_outfile/men/wa-.wav\"))\n",
    "amp = synth.stack(SimpleAmp(volume=0.1))\n",
    "env = Envelope(A=0.1, D=0.05, S=1.0, R=0.1)\n",
    "env.assign(amp.amp)\n",
    "synth.implement(env)\n",
    "synth.completed()\n",
    "synth.play()"
   ]
  },
  {
   "cell_type": "code",
   "execution_count": null,
   "metadata": {},
   "outputs": [],
   "source": []
  },
  {
   "cell_type": "code",
   "execution_count": null,
   "metadata": {},
   "outputs": [],
   "source": []
  },
  {
   "cell_type": "code",
   "execution_count": null,
   "metadata": {},
   "outputs": [],
   "source": []
  }
 ],
 "metadata": {
  "kernelspec": {
   "display_name": "Python 3",
   "language": "python",
   "name": "python3"
  },
  "language_info": {
   "codemirror_mode": {
    "name": "ipython",
    "version": 3
   },
   "file_extension": ".py",
   "mimetype": "text/x-python",
   "name": "python",
   "nbconvert_exporter": "python",
   "pygments_lexer": "ipython3",
   "version": "3.6.5"
  }
 },
 "nbformat": 4,
 "nbformat_minor": 2
}
